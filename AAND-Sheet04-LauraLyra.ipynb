{
 "cells": [
  {
   "cell_type": "markdown",
   "metadata": {},
   "source": [
    "### General rules:\n",
    " * For all figures that you generate, remember to add meaningful labels to the axes (including units), and provide a legend and colorbar, if applicable.\n",
    " * Do not hard code constants, like number of samples, number of channels, etc in your program. These values should always be determined from the given data. This way, you can easily use the code to analyse other data sets.\n",
    " * Do not use high-level functions from toolboxes like scikit-learn.\n",
    " * Before submitting, check your code by executing: Kernel -> Restart & run all.\n",
    " * Replace *Template* by your *FirstnameLastname* in the filename."
   ]
  },
  {
   "cell_type": "markdown",
   "metadata": {},
   "source": [
    "# AAND BCI - Exercise Sheet #04"
   ]
  },
  {
   "cell_type": "markdown",
   "metadata": {},
   "source": [
    "#### Name: Laura Lyra\n"
   ]
  },
  {
   "cell_type": "code",
   "execution_count": 1,
   "metadata": {},
   "outputs": [],
   "source": [
    "%matplotlib inline\n",
    "\n",
    "import numpy as np\n",
    "import scipy as sp\n",
    "from matplotlib import pyplot as plt\n",
    "\n",
    "import bci_minitoolbox as bci\n",
    "import bci_classifiers as cfy"
   ]
  },
  {
   "cell_type": "markdown",
   "metadata": {},
   "source": [
    "## Exercise 1: Implementation of Shrinkage for Covariance Estimation  (4 points)\n",
    "Implement a function `cov_shrink` that estimates the covariance matrix of data using shrinkage with the analytic method of determining the shrinkage coefficient as presented in the lecture. Input and output of that function should be as in the function `numpy.cov`.\n",
    "\n",
    "If you cannot succeed with this task, you may import the function `cov_shrink` from `bci_helper_sheet4.pyc` (available at the moodle page) for the subsequent exercises."
   ]
  },
  {
   "cell_type": "code",
   "execution_count": 2,
   "metadata": {},
   "outputs": [],
   "source": [
    "def cov_shrink(X):\n",
    "    '''\n",
    "    Estimate covariance of given data using shrinkage estimator.\n",
    "    \n",
    "    Synopsis:\n",
    "        C= cov_shrink(X)\n",
    "    Argument:\n",
    "        X: data matrix (features x samples)\n",
    "    Output:\n",
    "        C: estimated covariance matrix\n",
    "    '''\n",
    "    d, K = X.shape \n",
    "    emp_cov = np.cov(X)\n",
    "    eigvals, eigvecs = np.linalg.eigh(emp_cov)\n",
    "    diag_eigvals = np.diag(eigvals)\n",
    "    nu = np.mean(eigvals)\n",
    "    \n",
    "    emp_mean = np.mean(X,axis=1).reshape((d,1))\n",
    "    \n",
    "    Zs = np.zeros((d,d,K))\n",
    "    for k in range(K):\n",
    "        Zs[:,:,k]= (X[:,k].reshape((d,1))-emp_mean) @ (X[:,k].reshape((d,1))-emp_mean).T \n",
    "    \n",
    "    R_squared = (emp_cov - nu*np.eye(d))**2\n",
    "    \n",
    "    gamma = (K/((K-1)**2))* np.sum(np.var(Zs,axis=2))/np.sum(R_squared)\n",
    "    \n",
    "    shrink_cov = eigvecs @ ((1-gamma)*diag_eigvals + gamma*nu*np.eye(d)) @ eigvecs.T\n",
    "    \n",
    "    return shrink_cov\n",
    "    "
   ]
  },
  {
   "cell_type": "markdown",
   "metadata": {},
   "source": [
    "## Exercise 2: Implementation of LDA with Shrinkage  (2 point)\n",
    "Implement a function `train_LDAshrink` that calculates the LDA classifier in which the estimation of the covariance matrices is enhanced by shrinkage. Input and output should be the same as for `train_LDA` from sheet \\#03. As for LDA, use the pseudo inverse (`numpy.linalg.pinv`) instead of the usual matrix inversion. \n",
    "\n",
    "If you cannot succeed with this task, you may import the function `train_LDAshrink` from `bci_cheat_sheet4.pyc` (available at the moodle page) for the subsequent exercises."
   ]
  },
  {
   "cell_type": "code",
   "execution_count": 3,
   "metadata": {},
   "outputs": [],
   "source": [
    "def train_LDAshrink(X, y):\n",
    "    '''\n",
    "    Synopsis:\n",
    "        w, b= train_LDAshrink(X, y)\n",
    "    Arguments:\n",
    "        X: data matrix (features X samples)\n",
    "        y: labels with values 0 and 1 (1 x samples)\n",
    "    Output:\n",
    "        w: LDA weight vector\n",
    "        b: bias term\n",
    "    '''\n",
    "    \n",
    "    features, samples = X.shape\n",
    "    class1 = X[:,y==1]\n",
    "    class0 = X[:,y==0]\n",
    "    erp1 = np.mean(class1,axis=1)\n",
    "    erp0 = np.mean(class0,axis=1)\n",
    "    \n",
    "    cov = cov_shrink(X)\n",
    "    \n",
    "    w = np.linalg.pinv(cov) @ (erp1 - erp0)\n",
    "    b = np.dot(w.T , (erp1 + erp0)/2)\n",
    "    \n",
    "    return w,b   \n"
   ]
  },
  {
   "cell_type": "markdown",
   "metadata": {},
   "source": [
    "## Preparation: Load data"
   ]
  },
  {
   "cell_type": "code",
   "execution_count": 4,
   "metadata": {},
   "outputs": [],
   "source": [
    "fname = 'erp_hexVPsag.npz'\n",
    "cnt, fs, clab, mnt, mrk_pos, mrk_class, mrk_className = bci.load_data(fname)"
   ]
  },
  {
   "cell_type": "markdown",
   "metadata": {},
   "source": [
    "## Exercise 3: Classification of Spatio-Temporal Features  (4 points)\n",
    "First, use the time-averaged potential in each of the intervals [ms]: 160-200, 200-220, 230-260, 260-290, 300-320, 330-370, 380-430, and 480-520 as feature vector (dimension 55 `x` 1) for each trial. For each interval calculate the 3-fold cross-validation error using LDA with and without shrinkage.\n",
    "\n",
    "In a second step, concatenate the eight feature vectors, that were calcualted for the eight specified intervals into one feature vector (dimension 440 `x` 1) for each trial. Again, determine the 3-fold cross-validation error using LDA with and without shrinkage."
   ]
  },
  {
   "cell_type": "code",
   "execution_count": 5,
   "metadata": {},
   "outputs": [],
   "source": [
    "from bci_classifiers import crossvalidation, train_LDA"
   ]
  },
  {
   "cell_type": "code",
   "execution_count": 6,
   "metadata": {},
   "outputs": [],
   "source": [
    "ival = [[160, 200], [200, 220], [230, 260], [260, 290], [300, 320], [330, 370], [380, 430], [480, 520]]"
   ]
  },
  {
   "cell_type": "code",
   "execution_count": 7,
   "metadata": {},
   "outputs": [],
   "source": [
    "test_error_LDA = []\n",
    "test_error_LDAshrink = []\n",
    "features = []\n",
    "\n",
    "for window in ival:\n",
    "    epo, epo_t = bci.makeepochs(cnt,fs,mrk_pos,window) \n",
    "    features.append(np.mean(epo,axis=0))\n",
    "    avg_time = np.mean(epo,axis=0)\n",
    "    test_error_LDA.append(crossvalidation(train_LDA, avg_time, mrk_class.T, folds=3, verbose=False)[0]) #index 0 gets test error rates\n",
    "    test_error_LDAshrink.append(crossvalidation(train_LDAshrink, avg_time, mrk_class.T, folds=3, verbose=False)[0]) #index 0 gets test error rates\n"
   ]
  },
  {
   "cell_type": "code",
   "execution_count": 8,
   "metadata": {
    "scrolled": true
   },
   "outputs": [
    {
     "data": {
      "image/png": "[encoded data removed]",
      "text/plain": [
       "<Figure size 432x288 with 1 Axes>"
      ]
     },
     "metadata": {
      "needs_background": "light"
     },
     "output_type": "display_data"
    }
   ],
   "source": [
    "plt.plot(np.array(test_error_LDA),label = \"LDA\")\n",
    "plt.plot(np.array(test_error_LDAshrink),label = \"LDA Shrink\")\n",
    "plt.ylabel(\"3-fold cross-validation error \")\n",
    "plt.xlabel(\"# feature vector\")\n",
    "plt.title(\"Comparison of 3-fold cross-validation error using LDA with and without shrinkage\")\n",
    "plt.legend();"
   ]
  },
  {
   "cell_type": "code",
   "execution_count": 9,
   "metadata": {},
   "outputs": [],
   "source": [
    "feat = np.array(features).reshape((440,-1))\n",
    "test_error_LDA_feat = crossvalidation(train_LDA, feat, mrk_class.T, folds=3, verbose=False)[0] #index 0 gets test error rates\n",
    "test_error_LDAshrink_feat = crossvalidation(train_LDAshrink, feat, mrk_class.T, folds=3, verbose=False)[0] #index 0 gets test error rates\n"
   ]
  },
  {
   "cell_type": "code",
   "execution_count": 10,
   "metadata": {},
   "outputs": [
    {
     "name": "stdout",
     "output_type": "stream",
     "text": [
      "For the concatenated feature vectors:  \n",
      "3-fold cross-validation error using LDA:  26.71678645927173 \n",
      "3-fold cross-validation error using LDA with shrinkage:  20.99323502725664\n"
     ]
    }
   ],
   "source": [
    "print(\"For the concatenated feature vectors: \",\"\\n3-fold cross-validation error using LDA: \",test_error_LDA_feat, \n",
    "          \"\\n3-fold cross-validation error using LDA with shrinkage: \", test_error_LDAshrink_feat)"
   ]
  }
 ],
 "metadata": {
  "kernelspec": {
   "display_name": "Python 3",
   "language": "python",
   "name": "python3"
  },
  "language_info": {
   "codemirror_mode": {
    "name": "ipython",
    "version": 3
   },
   "file_extension": ".py",
   "mimetype": "text/x-python",
   "name": "python",
   "nbconvert_exporter": "python",
   "pygments_lexer": "ipython3",
   "version": "3.8.3"
  }
 },
 "nbformat": 4,
 "nbformat_minor": 1
}
